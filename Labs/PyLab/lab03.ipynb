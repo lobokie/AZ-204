{
 "metadata": {
  "language_info": {
   "codemirror_mode": {
    "name": "ipython",
    "version": 3
   },
   "file_extension": ".py",
   "mimetype": "text/x-python",
   "name": "python",
   "nbconvert_exporter": "python",
   "pygments_lexer": "ipython3",
   "version": "3.9.0-final"
  },
  "orig_nbformat": 2,
  "kernelspec": {
   "name": "python3",
   "display_name": "Python 3.9.0 64-bit ('.venv')",
   "metadata": {
    "interpreter": {
     "hash": "ec7b39e6099a3653a871dce6befb089946d0720a3014f23d57798c60ef26a6de"
    }
   }
  }
 },
 "nbformat": 4,
 "nbformat_minor": 2,
 "cells": [
  {
   "source": [
    "# Azure Environment Variables"
   ],
   "cell_type": "markdown",
   "metadata": {}
  },
  {
   "cell_type": "code",
   "execution_count": 1,
   "metadata": {},
   "outputs": [
    {
     "output_type": "stream",
     "name": "stdout",
     "text": [
      "env: AZURE_SUBSCRIPTION_ID=3c894f7d-87fb-4d7c-957c-b17c5fd4c6b9\n"
     ]
    }
   ],
   "source": [
    "%env AZURE_SUBSCRIPTION_ID=3c894f7d-87fb-4d7c-957c-b17c5fd4c6b9\n",
    "\n",
    "# %env AZURE_STORAGE_CONNECTION_STRING=DefaultEndpointsProtocol=https;AccountName=mediastorkiw83wi;AccountKey=IJL5yUcYx99waESEOlZkJmlEhitknAjHp0SnrFaXOqz6HF68aATNMR5NaKWl7+TBQHRiPJtc8WAr8jcW4THEyQ==;EndpointSuffix=core.windows.net\n"
   ]
  },
  {
   "cell_type": "code",
   "execution_count": 2,
   "metadata": {},
   "outputs": [],
   "source": [
    "import os, random"
   ]
  },
  {
   "cell_type": "code",
   "execution_count": 3,
   "metadata": {},
   "outputs": [],
   "source": [
    "# Import the needed management objects from the libraries. The azure.common library\n",
    "# is installed automatically with the other libraries.\n",
    "from azure.identity import AzureCliCredential\n",
    "from azure.mgmt.resource import ResourceManagementClient\n",
    "from azure.mgmt.storage import StorageManagementClient\n"
   ]
  },
  {
   "source": [
    "# Random postfix for resources"
   ],
   "cell_type": "markdown",
   "metadata": {}
  },
  {
   "cell_type": "code",
   "execution_count": 4,
   "metadata": {},
   "outputs": [],
   "source": [
    "#random.seed(0)\n",
    "postfix = random.randint(1,100000)"
   ]
  },
  {
   "source": [
    "# Credentials and Resource Client"
   ],
   "cell_type": "markdown",
   "metadata": {}
  },
  {
   "cell_type": "code",
   "execution_count": 5,
   "metadata": {},
   "outputs": [],
   "source": [
    "# Acquire a credential object using CLI-based authentication.\n",
    "credential = AzureCliCredential()\n",
    "\n",
    "# Retrieve subscription ID from environment variable.\n",
    "subscription_id = os.environ[\"AZURE_SUBSCRIPTION_ID\"]\n",
    "\n",
    "# Obtain the management object for resources.\n",
    "resource_client = ResourceManagementClient(credential, subscription_id)"
   ]
  },
  {
   "source": [
    "# Create resource group"
   ],
   "cell_type": "markdown",
   "metadata": {}
  },
  {
   "cell_type": "code",
   "execution_count": 6,
   "metadata": {},
   "outputs": [
    {
     "output_type": "stream",
     "name": "stdout",
     "text": [
      "Provisioned resource group rg-az204-storage-28344\n"
     ]
    }
   ],
   "source": [
    "# Constants we need in multiple places: the resource group name and the region\n",
    "# in which we provision resources. You can change these values however you want.\n",
    "RESOURCE_GROUP_NAME = f\"rg-az204-storage-{postfix:05}\"\n",
    "LOCATION = \"westeurope\"\n",
    "\n",
    "# Step 1: Provision the resource group.\n",
    "\n",
    "rg_result = resource_client.resource_groups.create_or_update(RESOURCE_GROUP_NAME, { \"location\": LOCATION })\n",
    "\n",
    "print(f\"Provisioned resource group {rg_result.name}\")\n",
    "\n",
    "# For details on the previous code, see Example: Provision a resource group\n",
    "# at https://docs.microsoft.com/azure/developer/python/azure-sdk-example-resource-group"
   ]
  },
  {
   "source": [
    "# Delete resource group"
   ],
   "cell_type": "markdown",
   "metadata": {}
  },
  {
   "cell_type": "code",
   "execution_count": 7,
   "metadata": {},
   "outputs": [],
   "source": [
    "# Optional lines to delete the resource group. begin_delete is asynchronous.\n",
    "# poller = resource_client.resource_groups.begin_delete(rg_result.name)\n",
    "# result = poller.result()"
   ]
  },
  {
   "source": [
    "# Create storage account"
   ],
   "cell_type": "markdown",
   "metadata": {}
  },
  {
   "cell_type": "code",
   "execution_count": 8,
   "metadata": {},
   "outputs": [
    {
     "output_type": "stream",
     "name": "stdout",
     "text": [
      "Creation of storage28344 Succeeded\n"
     ]
    }
   ],
   "source": [
    "# Step 2: Provision the storage account, starting with a management object.\n",
    "\n",
    "storage_client = StorageManagementClient(credential, subscription_id)\n",
    "\n",
    "# This example uses the CLI profile credentials because we assume the script\n",
    "# is being used to provision the resource in the same way the Azure CLI would be used.\n",
    "\n",
    "STORAGE_ACCOUNT_NAME = f\"storage{postfix:05}\"\n",
    "\n",
    "# You can replace the storage account here with any unique name. A random number is used\n",
    "# by default, but note that the name changes every time you run this script.\n",
    "# The name must be 3-24 lower case letters and numbers only.\n",
    "\n",
    "\n",
    "# Check if the account name is available. Storage account names must be unique across\n",
    "# Azure because they're used in URLs.\n",
    "availability_result = storage_client.storage_accounts.check_name_availability(\n",
    "    { \"name\": STORAGE_ACCOUNT_NAME }\n",
    ")\n",
    "\n",
    "if not availability_result.name_available:\n",
    "    print(f\"Storage name {STORAGE_ACCOUNT_NAME} is already in use. Try another name.\")\n",
    "    exit()\n",
    "\n",
    "# The name is available, so provision the account\n",
    "poller = storage_client.storage_accounts.begin_create(RESOURCE_GROUP_NAME, STORAGE_ACCOUNT_NAME,\n",
    "    {\n",
    "        \"location\" : LOCATION,\n",
    "        \"kind\": \"StorageV2\",\n",
    "        \"sku\": {\"name\": \"Standard_LRS\"}\n",
    "    }\n",
    ")\n",
    "\n",
    "while poller.status() != 'Succeeded':\n",
    "    pass\n",
    "print(f'Creation of ' + STORAGE_ACCOUNT_NAME + ' ' + poller.status())"
   ]
  },
  {
   "source": [
    "# Create blob container "
   ],
   "cell_type": "markdown",
   "metadata": {}
  },
  {
   "cell_type": "code",
   "execution_count": 9,
   "metadata": {},
   "outputs": [
    {
     "output_type": "stream",
     "name": "stdout",
     "text": [
      "Primary key for storage account: QQI3ZffwDIINtEsLFBdNbJPi1PwDCb7xyWqvM+1gjIe+KXJ1bG5Sm8/eu30dE3DctYzOG4wKJRkWvRGarAaTJQ==\n",
      "Connection string: DefaultEndpointsProtocol=https;EndpointSuffix=core.windows.net;AccountName=storage28344;AccountKey=QQI3ZffwDIINtEsLFBdNbJPi1PwDCb7xyWqvM+1gjIe+KXJ1bG5Sm8/eu30dE3DctYzOG4wKJRkWvRGarAaTJQ==\n",
      "Provisioned blob container blob-container-01\n"
     ]
    }
   ],
   "source": [
    "# Step 3: Retrieve the account's primary access key and generate a connection string.\n",
    "keys = storage_client.storage_accounts.list_keys(RESOURCE_GROUP_NAME, STORAGE_ACCOUNT_NAME)\n",
    "\n",
    "print(f\"Primary key for storage account: {keys.keys[0].value}\")\n",
    "\n",
    "conn_string = f\"DefaultEndpointsProtocol=https;EndpointSuffix=core.windows.net;AccountName={STORAGE_ACCOUNT_NAME};AccountKey={keys.keys[0].value}\"\n",
    "\n",
    "print(f\"Connection string: {conn_string}\")\n",
    "\n",
    "# Step 4: Provision the blob container in the account (this call is synchronous)\n",
    "CONTAINER_NAME = \"blob-container-01\"\n",
    "container = storage_client.blob_containers.create(RESOURCE_GROUP_NAME, STORAGE_ACCOUNT_NAME, CONTAINER_NAME, {})\n",
    "\n",
    "# The fourth argument is a required BlobContainer object, but because we don't need any\n",
    "# special values there, so we just pass empty JSON.\n",
    "\n",
    "print(f\"Provisioned blob container {container.name}\")\n"
   ]
  },
  {
   "source": [
    "# Manage blobs"
   ],
   "cell_type": "markdown",
   "metadata": {}
  },
  {
   "cell_type": "code",
   "execution_count": 10,
   "metadata": {},
   "outputs": [
    {
     "output_type": "stream",
     "name": "stdout",
     "text": [
      "Azure Blob storage v12.6.0 - Python quickstart sample\n"
     ]
    }
   ],
   "source": [
    "import os, uuid\n",
    "from azure.storage.blob import BlobServiceClient, BlobClient, ContainerClient, __version__\n",
    "\n",
    "try:\n",
    "    print(\"Azure Blob storage v\" + __version__ + \" - Python quickstart sample\")\n",
    "    # Quick start code goes here\n",
    "except Exception as ex:\n",
    "    print('Exception:')\n",
    "    print(ex)"
   ]
  },
  {
   "cell_type": "code",
   "execution_count": 11,
   "metadata": {},
   "outputs": [],
   "source": [
    "connect_str = conn_string#os.getenv('AZURE_STORAGE_CONNECTION_STRING')"
   ]
  },
  {
   "cell_type": "code",
   "execution_count": 12,
   "metadata": {},
   "outputs": [],
   "source": [
    "# Create the BlobServiceClient object which will be used to create a container client\n",
    "blob_service_client = BlobServiceClient.from_connection_string(connect_str)"
   ]
  },
  {
   "cell_type": "code",
   "execution_count": 25,
   "metadata": {},
   "outputs": [
    {
     "output_type": "execute_result",
     "data": {
      "text/plain": [
       "'quickstart4baf93b2-7b66-497a-88ce-e77110a13660'"
      ]
     },
     "metadata": {},
     "execution_count": 25
    }
   ],
   "source": [
    "# Create a unique name for the container\n",
    "container_name = \"quickstart\" + str(uuid.uuid4())\n",
    "container_name"
   ]
  },
  {
   "cell_type": "code",
   "execution_count": 26,
   "metadata": {},
   "outputs": [
    {
     "output_type": "stream",
     "name": "stdout",
     "text": [
      "Provisioned blob container quickstart4baf93b2-7b66-497a-88ce-e77110a13660\n"
     ]
    }
   ],
   "source": [
    "\n",
    "# Create the container\n",
    "container_client = blob_service_client.create_container(container_name)\n",
    "print(f\"Provisioned blob container {container_client.container_name}\")"
   ]
  },
  {
   "source": [
    "# Upload blobs to a container\n"
   ],
   "cell_type": "markdown",
   "metadata": {}
  },
  {
   "cell_type": "code",
   "execution_count": 31,
   "metadata": {},
   "outputs": [
    {
     "output_type": "stream",
     "name": "stdout",
     "text": [
      "\nUploading to Azure Storage as blob:\n\tquickstart5f9a5c54-efb0-4db1-9ede-c4ee440ca5f3.txt\n"
     ]
    }
   ],
   "source": [
    "# Create a file in local data directory to upload and download\n",
    "local_path = \"./data\"\n",
    "local_file_name = \"quickstart\" + str(uuid.uuid4()) + \".txt\"\n",
    "upload_file_path = os.path.join(local_path, local_file_name)\n",
    "\n",
    "# Write text to the file\n",
    "file = open(upload_file_path, 'w')\n",
    "file.write(\"Hello, World!\")\n",
    "file.close()\n",
    "\n",
    "# Create a blob client using the local file name as the name for the blob\n",
    "blob_client = blob_service_client.get_blob_client(container=container_name, blob=local_file_name)\n",
    "\n",
    "print(\"\\nUploading to Azure Storage as blob:\\n\\t\" + local_file_name)\n",
    "\n",
    "# Upload the created file\n",
    "with open(upload_file_path, \"rb\") as data:\n",
    "    blob_client.upload_blob(data)\n"
   ]
  },
  {
   "source": [
    "# List the blobs in a container\n"
   ],
   "cell_type": "markdown",
   "metadata": {}
  },
  {
   "cell_type": "code",
   "execution_count": 32,
   "metadata": {},
   "outputs": [
    {
     "output_type": "stream",
     "name": "stdout",
     "text": [
      "\nListing blobs...\n\tquickstart3d897e46-70b3-47a3-97a8-efc63e6615ae.txt\n\tquickstart5f9a5c54-efb0-4db1-9ede-c4ee440ca5f3.txt\n\tquickstartc2b71d99-eb55-4d91-98bb-7f78c810f8bb.txt\n"
     ]
    }
   ],
   "source": [
    "print(\"\\nListing blobs...\")\n",
    "\n",
    "# List the blobs in the container\n",
    "blob_list = container_client.list_blobs()\n",
    "for blob in blob_list:\n",
    "    print(\"\\t\" + blob.name)"
   ]
  },
  {
   "source": [
    "# Download blobs"
   ],
   "cell_type": "markdown",
   "metadata": {}
  },
  {
   "cell_type": "code",
   "execution_count": 34,
   "metadata": {},
   "outputs": [
    {
     "output_type": "stream",
     "name": "stdout",
     "text": [
      "\nDownloading blob to \n\t./data/quickstart5f9a5c54-efb0-4db1-9ede-c4ee440ca5f3DOWNLOAD.txt\n"
     ]
    }
   ],
   "source": [
    "# # Download the blob to a local file\n",
    "# Add 'DOWNLOAD' before the .txt extension so you can see both files in the data directory\n",
    "download_file_path = os.path.join(local_path, str.replace(local_file_name ,'.txt', 'DOWNLOAD.txt'))\n",
    "print(\"\\nDownloading blob to \\n\\t\" + download_file_path)\n",
    "\n",
    "with open(download_file_path, \"wb\") as download_file:\n",
    "    download_file.write(blob_client.download_blob().readall())"
   ]
  },
  {
   "cell_type": "code",
   "execution_count": null,
   "metadata": {},
   "outputs": [],
   "source": []
  }
 ]
}