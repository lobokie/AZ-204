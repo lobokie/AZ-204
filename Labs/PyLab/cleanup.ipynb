{
 "metadata": {
  "language_info": {
   "codemirror_mode": {
    "name": "ipython",
    "version": 3
   },
   "file_extension": ".py",
   "mimetype": "text/x-python",
   "name": "python",
   "nbconvert_exporter": "python",
   "pygments_lexer": "ipython3",
   "version": "3.8.6-final"
  },
  "orig_nbformat": 2,
  "kernelspec": {
   "name": "python3",
   "display_name": "Python 3.8.6 64-bit ('.venv')",
   "metadata": {
    "interpreter": {
     "hash": "ec7b39e6099a3653a871dce6befb089946d0720a3014f23d57798c60ef26a6de"
    }
   }
  }
 },
 "nbformat": 4,
 "nbformat_minor": 2,
 "cells": [
  {
   "source": [
    "# Azure Environment Variables"
   ],
   "cell_type": "markdown",
   "metadata": {}
  },
  {
   "cell_type": "code",
   "execution_count": 1,
   "metadata": {},
   "outputs": [
    {
     "output_type": "stream",
     "name": "stdout",
     "text": [
      "env: AZURE_SUBSCRIPTION_ID=3c894f7d-87fb-4d7c-957c-b17c5fd4c6b9\n"
     ]
    }
   ],
   "source": [
    "%env AZURE_SUBSCRIPTION_ID=3c894f7d-87fb-4d7c-957c-b17c5fd4c6b9\n",
    "\n",
    "# %env AZURE_STORAGE_CONNECTION_STRING=DefaultEndpointsProtocol=https;AccountName=mediastorkiw83wi;AccountKey=IJL5yUcYx99waESEOlZkJmlEhitknAjHp0SnrFaXOqz6HF68aATNMR5NaKWl7+TBQHRiPJtc8WAr8jcW4THEyQ==;EndpointSuffix=core.windows.net\n"
   ]
  },
  {
   "cell_type": "code",
   "execution_count": 2,
   "metadata": {},
   "outputs": [],
   "source": [
    "import os, random"
   ]
  },
  {
   "cell_type": "code",
   "execution_count": 3,
   "metadata": {},
   "outputs": [],
   "source": [
    "# Import the needed management objects from the libraries. The azure.common library\n",
    "# is installed automatically with the other libraries.\n",
    "from azure.identity import AzureCliCredential\n",
    "from azure.mgmt.resource import ResourceManagementClient\n",
    "from azure.mgmt.storage import StorageManagementClient\n"
   ]
  },
  {
   "source": [
    "# Credentials and Resource Client"
   ],
   "cell_type": "markdown",
   "metadata": {}
  },
  {
   "cell_type": "code",
   "execution_count": 4,
   "metadata": {},
   "outputs": [],
   "source": [
    "# Acquire a credential object using CLI-based authentication.\n",
    "credential = AzureCliCredential()\n",
    "\n",
    "# Retrieve subscription ID from environment variable.\n",
    "subscription_id = os.environ[\"AZURE_SUBSCRIPTION_ID\"]\n",
    "\n",
    "# Obtain the management object for resources.\n",
    "resource_client = ResourceManagementClient(credential, subscription_id)"
   ]
  },
  {
   "source": [
    "# List resource groups"
   ],
   "cell_type": "markdown",
   "metadata": {}
  },
  {
   "cell_type": "code",
   "execution_count": 5,
   "metadata": {},
   "outputs": [
    {
     "output_type": "stream",
     "name": "stdout",
     "text": [
      "rg-az204-deploy-arm-65236\nrg-az204-deploy-arm-03926\nrg-approvaltask\nrg-az204-cosmosdb\nrg-az204-storage-83266\nrg-az204-storage-84411\nrg-az204-storage-24844\nrg-az204-storage-33469\nrg-az204-storage-95323\nrg-az204-storage-04806\nrg-api204\naz204-secure-solutions-117\naz204-appconfig-117\naz204-apimgmt-31566\naz204-cdn-007\naz204-cdn-117\naz204-cdn-118\nrg-az-204-redis\nDefaultResourceGroup-WEU\naz-204-logic-app\n"
     ]
    }
   ],
   "source": [
    "rgs = resource_client.resource_groups.list()\n",
    "for rg in rgs: print(rg.name)"
   ]
  },
  {
   "source": [
    "# Delete all resource groups"
   ],
   "cell_type": "markdown",
   "metadata": {}
  },
  {
   "cell_type": "code",
   "execution_count": 6,
   "metadata": {},
   "outputs": [
    {
     "output_type": "stream",
     "name": "stdout",
     "text": [
      "deleting rg-az204-deploy-arm-65236\n",
      "deleting rg-az204-deploy-arm-03926\n",
      "deleting rg-approvaltask\n",
      "deleting rg-az204-cosmosdb\n",
      "deleting rg-az204-storage-83266\n",
      "deleting rg-az204-storage-84411\n",
      "deleting rg-az204-storage-24844\n",
      "deleting rg-az204-storage-33469\n",
      "deleting rg-az204-storage-95323\n",
      "deleting rg-az204-storage-04806\n",
      "deleting rg-api204\n",
      "deleting az204-secure-solutions-117\n",
      "deleting az204-appconfig-117\n",
      "deleting az204-apimgmt-31566\n",
      "deleting az204-cdn-007\n",
      "deleting az204-cdn-117\n",
      "deleting az204-cdn-118\n",
      "deleting rg-az-204-redis\n",
      "deleting DefaultResourceGroup-WEU\n",
      "deleting az-204-logic-app\n"
     ]
    }
   ],
   "source": [
    "def check_deletion_status(poller_dict):\n",
    "    for rg,poller in poller_dict.items():\n",
    "        print(rg+\": \"+poller.status())\n",
    "\n",
    "pollers = dict()\n",
    "for rg in resource_client.resource_groups.list():\n",
    "    print(f\"deleting {rg.name}\")\n",
    "    pollers[rg.name] = resource_client.resource_groups.begin_delete(rg.name)"
   ]
  },
  {
   "cell_type": "code",
   "execution_count": 7,
   "metadata": {},
   "outputs": [
    {
     "output_type": "stream",
     "name": "stdout",
     "text": [
      "rg-az204-deploy-arm-65236: InProgress\nrg-az204-deploy-arm-03926: InProgress\nrg-approvaltask: InProgress\nrg-az204-cosmosdb: InProgress\nrg-az204-storage-83266: InProgress\nrg-az204-storage-84411: InProgress\nrg-az204-storage-24844: InProgress\nrg-az204-storage-33469: InProgress\nrg-az204-storage-95323: InProgress\nrg-az204-storage-04806: InProgress\nrg-api204: InProgress\naz204-secure-solutions-117: InProgress\naz204-appconfig-117: InProgress\naz204-apimgmt-31566: InProgress\naz204-cdn-007: InProgress\naz204-cdn-117: InProgress\naz204-cdn-118: InProgress\nrg-az-204-redis: InProgress\nDefaultResourceGroup-WEU: InProgress\naz-204-logic-app: InProgress\n"
     ]
    }
   ],
   "source": [
    "check_deletion_status(pollers)"
   ]
  },
  {
   "cell_type": "code",
   "execution_count": null,
   "metadata": {},
   "outputs": [],
   "source": []
  }
 ]
}