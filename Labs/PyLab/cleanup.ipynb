{
 "metadata": {
  "language_info": {
   "codemirror_mode": {
    "name": "ipython",
    "version": 3
   },
   "file_extension": ".py",
   "mimetype": "text/x-python",
   "name": "python",
   "nbconvert_exporter": "python",
   "pygments_lexer": "ipython3",
   "version": "3.8.6-final"
  },
  "orig_nbformat": 2,
  "kernelspec": {
   "name": "python3",
   "display_name": "Python 3.8.6 64-bit ('.venv')",
   "metadata": {
    "interpreter": {
     "hash": "ec7b39e6099a3653a871dce6befb089946d0720a3014f23d57798c60ef26a6de"
    }
   }
  }
 },
 "nbformat": 4,
 "nbformat_minor": 2,
 "cells": [
  {
   "source": [
    "# Azure Environment Variables"
   ],
   "cell_type": "markdown",
   "metadata": {}
  },
  {
   "cell_type": "code",
   "execution_count": 1,
   "metadata": {},
   "outputs": [
    {
     "output_type": "stream",
     "name": "stdout",
     "text": [
      "env: AZURE_SUBSCRIPTION_ID=3c894f7d-87fb-4d7c-957c-b17c5fd4c6b9\n"
     ]
    }
   ],
   "source": [
    "%env AZURE_SUBSCRIPTION_ID=3c894f7d-87fb-4d7c-957c-b17c5fd4c6b9\n",
    "\n",
    "# %env AZURE_STORAGE_CONNECTION_STRING=DefaultEndpointsProtocol=https;AccountName=mediastorkiw83wi;AccountKey=IJL5yUcYx99waESEOlZkJmlEhitknAjHp0SnrFaXOqz6HF68aATNMR5NaKWl7+TBQHRiPJtc8WAr8jcW4THEyQ==;EndpointSuffix=core.windows.net\n"
   ]
  },
  {
   "cell_type": "code",
   "execution_count": 2,
   "metadata": {},
   "outputs": [],
   "source": [
    "import os, random"
   ]
  },
  {
   "cell_type": "code",
   "execution_count": 3,
   "metadata": {},
   "outputs": [],
   "source": [
    "# Import the needed management objects from the libraries. The azure.common library\n",
    "# is installed automatically with the other libraries.\n",
    "from azure.identity import AzureCliCredential\n",
    "from azure.mgmt.resource import ResourceManagementClient\n",
    "from azure.mgmt.storage import StorageManagementClient\n"
   ]
  },
  {
   "source": [
    "# Credentials and Resource Client"
   ],
   "cell_type": "markdown",
   "metadata": {}
  },
  {
   "cell_type": "code",
   "execution_count": 4,
   "metadata": {},
   "outputs": [],
   "source": [
    "# Acquire a credential object using CLI-based authentication.\n",
    "credential = AzureCliCredential()\n",
    "\n",
    "# Retrieve subscription ID from environment variable.\n",
    "subscription_id = os.environ[\"AZURE_SUBSCRIPTION_ID\"]\n",
    "\n",
    "# Obtain the management object for resources.\n",
    "resource_client = ResourceManagementClient(credential, subscription_id)"
   ]
  },
  {
   "source": [
    "# List resource groups"
   ],
   "cell_type": "markdown",
   "metadata": {}
  },
  {
   "cell_type": "code",
   "execution_count": 6,
   "metadata": {},
   "outputs": [
    {
     "output_type": "stream",
     "name": "stdout",
     "text": [
      "az204-acr-20701\naz204-acr-11924\naz204-acr-22306\naz204-acr-8986\naz204-acr-32610\naz204-acr-32494\naz204-acr-27410\naz204-acr-10398\n"
     ]
    }
   ],
   "source": [
    "rgs = resource_client.resource_groups.list()\n",
    "for rg in rgs: print(rg.name)"
   ]
  },
  {
   "source": [
    "# Delete all resource groups"
   ],
   "cell_type": "markdown",
   "metadata": {}
  },
  {
   "cell_type": "code",
   "execution_count": 17,
   "metadata": {},
   "outputs": [
    {
     "output_type": "stream",
     "name": "stdout",
     "text": [
      "deleting az204-acr-2356\n",
      "deleting az204-acr-16219\n"
     ]
    }
   ],
   "source": [
    "def check_deletion_status(poller_dict):\n",
    "    for rg,poller in poller_dict.items():\n",
    "        print(rg+\": \"+poller.status())\n",
    "\n",
    "pollers = dict()\n",
    "for rg in resource_client.resource_groups.list():\n",
    "    print(f\"deleting {rg.name}\")\n",
    "    pollers[rg.name] = resource_client.resource_groups.begin_delete(rg.name)"
   ]
  },
  {
   "cell_type": "code",
   "execution_count": 18,
   "metadata": {},
   "outputs": [
    {
     "output_type": "stream",
     "name": "stdout",
     "text": [
      "az204-acr-2356: InProgress\naz204-acr-16219: InProgress\n"
     ]
    }
   ],
   "source": [
    "check_deletion_status(pollers)"
   ]
  },
  {
   "cell_type": "code",
   "execution_count": null,
   "metadata": {},
   "outputs": [],
   "source": []
  }
 ]
}